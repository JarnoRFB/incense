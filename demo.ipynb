{
 "cells": [
  {
   "cell_type": "markdown",
   "metadata": {},
   "source": [
    "# Incense demo\n",
    "This notebook demonstrates how `incense` can be used to retrieve experiments stored in a mongoDB by [sacred](https://github.com/IDSIA/sacred). It demonstrates the most of the capabilities of `incense` and should be enough to get you started.\n",
    "\n",
    "If you want to run the notebook locally you will have to\n",
    "\n",
    "1. start up the mongoDB service using docker. Go to `infrastructure/sacred_setup` and run `docker compose-up`\n",
    "1. execute the example experiment. Got to `example/experiment` and run `python conduct.py`"
   ]
  },
  {
   "cell_type": "code",
   "execution_count": 1,
   "metadata": {},
   "outputs": [],
   "source": [
    "%load_ext autoreload\n",
    "%autoreload 2"
   ]
  },
  {
   "cell_type": "code",
   "execution_count": 2,
   "metadata": {},
   "outputs": [],
   "source": [
    "import sys\n",
    "sys.path.append('.')\n",
    "from datetime import datetime\n",
    "import numpy as np\n",
    "import matplotlib.pyplot as plt\n",
    "\n",
    "import incense\n",
    "from incense import ExperimentLoader\n",
    "from tests.conftest import get_mongo_uri"
   ]
  },
  {
   "cell_type": "markdown",
   "metadata": {},
   "source": [
    "## Finding experiments\n",
    "\n",
    "To use `incense` we first have to instantiate an experiment loader that will enable us to query the database for specific runs."
   ]
  },
  {
   "cell_type": "code",
   "execution_count": 3,
   "metadata": {},
   "outputs": [],
   "source": [
    "loader = ExperimentLoader(\n",
    "    mongo_uri=get_mongo_uri(),  # None if MongoDB is running on localhost or \"mongodb://mongo:27017\" when running in devcontainer.    \n",
    "    db_name='incense_test'\n",
    ")"
   ]
  },
  {
   "cell_type": "markdown",
   "metadata": {},
   "source": [
    "It is easiest to retrieve experiments by their id."
   ]
  },
  {
   "cell_type": "code",
   "execution_count": 4,
   "metadata": {},
   "outputs": [
    {
     "data": {
      "text/plain": [
       "Experiment(id=2, name=example)"
      ]
     },
     "execution_count": 4,
     "metadata": {},
     "output_type": "execute_result"
    }
   ],
   "source": [
    "exp = loader.find_by_id(2)\n",
    "exp"
   ]
  },
  {
   "cell_type": "markdown",
   "metadata": {},
   "source": [
    "It is also possible to find a set of experiments based on their configuration values. Multiple experiments are returned as a `QuerySet` that just acts as a list, but exposes some custom methods."
   ]
  },
  {
   "cell_type": "code",
   "execution_count": 5,
   "metadata": {},
   "outputs": [
    {
     "data": {
      "text/plain": [
       "QuerySet([Experiment(id=1, name=example), Experiment(id=2, name=example)])"
      ]
     },
     "execution_count": 5,
     "metadata": {},
     "output_type": "execute_result"
    }
   ],
   "source": [
    "loader.find_by_config_key('optimizer', 'sgd')"
   ]
  },
  {
   "cell_type": "code",
   "execution_count": 6,
   "metadata": {},
   "outputs": [
    {
     "data": {
      "text/plain": [
       "QuerySet([Experiment(id=2, name=example)])"
      ]
     },
     "execution_count": 6,
     "metadata": {},
     "output_type": "execute_result"
    }
   ],
   "source": [
    "loader.find_by_config_key('epochs', 3.0)"
   ]
  },
  {
   "cell_type": "markdown",
   "metadata": {},
   "source": [
    "For more complex queries we can rely on the full power of [mongoDB queries](https://docs.mongodb.com/manual/tutorial/query-documents/) using `find`.\n"
   ]
  },
  {
   "cell_type": "code",
   "execution_count": 7,
   "metadata": {},
   "outputs": [
    {
     "data": {
      "text/plain": [
       "QuerySet([Experiment(id=2, name=example)])"
      ]
     },
     "execution_count": 7,
     "metadata": {},
     "output_type": "execute_result"
    }
   ],
   "source": [
    "query = {\"$and\": [\n",
    "            {\"config.optimizer\": \"sgd\"},\n",
    "            {\"config.epochs\": 3},\n",
    "        ]}\n",
    "loader.find(query)"
   ]
  },
  {
   "cell_type": "markdown",
   "metadata": {},
   "source": [
    "Using mongoDB queries you can also request experiments in certain time ranges."
   ]
  },
  {
   "cell_type": "code",
   "execution_count": 8,
   "metadata": {},
   "outputs": [
    {
     "data": {
      "text/plain": [
       "QuerySet([Experiment(id=1, name=example), Experiment(id=2, name=example), Experiment(id=3, name=example)])"
      ]
     },
     "execution_count": 8,
     "metadata": {},
     "output_type": "execute_result"
    }
   ],
   "source": [
    "query = {\"start_time\": {\"$gt\": datetime(2019, 4, 1)}}\n",
    "loader.find(query)"
   ]
  },
  {
   "cell_type": "markdown",
   "metadata": {},
   "source": [
    "For quickly viewing the newest experiments you can use the `find_latest` method. This is especially useful when *debugging* machine learning experiments. Caching is explicitly disabled for this method."
   ]
  },
  {
   "cell_type": "code",
   "execution_count": 9,
   "metadata": {},
   "outputs": [
    {
     "data": {
      "text/plain": [
       "Experiment(id=3, name=example)"
      ]
     },
     "execution_count": 9,
     "metadata": {},
     "output_type": "execute_result"
    }
   ],
   "source": [
    "loader.find_latest()"
   ]
  },
  {
   "cell_type": "markdown",
   "metadata": {},
   "source": [
    "## Caching\n",
    "By default, the experiment loader will cache the returned experiments. When you want to see updates in your in the database you have to explicitly clear the cache. Caching right now only works for `find`-methods that take immutable arguments."
   ]
  },
  {
   "cell_type": "code",
   "execution_count": 10,
   "metadata": {},
   "outputs": [],
   "source": [
    "loader.cache_clear()"
   ]
  },
  {
   "cell_type": "markdown",
   "metadata": {},
   "source": [
    "## Accessing experiment attributes\n",
    "The experiment object exposes all fields from the sacred data model. To see which keys and values are available we can use the `to_dict` method. "
   ]
  },
  {
   "cell_type": "code",
   "execution_count": 11,
   "metadata": {},
   "outputs": [
    {
     "data": {
      "text/plain": [
       "{'host': {'python_version': '3.6.8',\n",
       "  'hostname': 'b8e84bb90a56',\n",
       "  'os': ['Linux', 'Linux-4.18.0-25-generic-x86_64-with-debian-9.8'],\n",
       "  'ENV': {},\n",
       "  'cpu': 'Intel(R) Core(TM) i7-4800MQ CPU @ 2.70GHz'},\n",
       " 'start_time': datetime.datetime(2019, 7, 25, 18, 38, 33, 832000),\n",
       " 'resources': [],\n",
       " 'info': {'metrics': [{'id': '5d39f733d0259dc4121890ad',\n",
       "    'name': 'training_loss'},\n",
       "   {'id': '5d39f733d0259dc4121890af', 'name': 'training_acc'},\n",
       "   {'id': '5d39f73cd0259dc4121890e8', 'name': 'test_loss'},\n",
       "   {'id': '5d39f73cd0259dc4121890ea', 'name': 'test_acc'}]},\n",
       " 'stop_time': datetime.datetime(2019, 7, 25, 18, 38, 52, 8000),\n",
       " 'meta': {'options': {'--print_config': False,\n",
       "   '--unobserved': False,\n",
       "   '--tiny_db': None,\n",
       "   '--mongo_db': None,\n",
       "   '--debug': False,\n",
       "   '--file_storage': None,\n",
       "   '--queue': False,\n",
       "   '--sql': None,\n",
       "   '--beat_interval': None,\n",
       "   '--enforce_clean': False,\n",
       "   '--force': False,\n",
       "   '--capture': None,\n",
       "   '--name': None,\n",
       "   '--help': False,\n",
       "   '--comment': None,\n",
       "   '--priority': None,\n",
       "   '--pdb': False,\n",
       "   '--loglevel': None},\n",
       "  'command': 'conduct'},\n",
       " 'status': 'COMPLETED',\n",
       " 'captured_out': 'INFO - example - Running command \\'conduct\\'\\nINFO - example - Started run with ID \"2\"\\nFailed to detect content-type automatically for artifact /home/docker/workspace/predictions_df.pickle.\\nAdded text/csv as content-type of artifact /home/docker/workspace/predictions.csv.\\nAdded image/png as content-type of artifact /home/docker/workspace/confusion_matrix.png.\\nAdded application/pdf as content-type of artifact /home/docker/workspace/confusion_matrix.pdf.\\nINFO - matplotlib.animation - MovieWriter.run: running command: [\\'ffmpeg\\', \\'-f\\', \\'rawvideo\\', \\'-vcodec\\', \\'rawvideo\\', \\'-s\\', \\'3840x2880\\', \\'-pix_fmt\\', \\'rgba\\', \\'-r\\', \\'1\\', \\'-loglevel\\', \\'error\\', \\'-i\\', \\'pipe:\\', \\'-vcodec\\', \\'h264\\', \\'-pix_fmt\\', \\'yuv420p\\', \\'-y\\', \\'accuracy_movie.mp4\\']\\nAdded video/mp4 as content-type of artifact /home/docker/workspace/accuracy_movie.mp4.\\nAdded text/plain as content-type of artifact /home/docker/workspace/history.txt.\\nFailed to detect content-type automatically for artifact /home/docker/workspace/model.hdf5.\\nINFO - example - Result: 0.9315000176429749\\nINFO - example - Completed after 0:00:18\\n',\n",
       " 'command': 'conduct',\n",
       " 'heartbeat': datetime.datetime(2019, 7, 25, 18, 38, 52, 11000),\n",
       " 'experiment': {'sources': [['conduct.py',\n",
       "    ObjectId('5d39f70c80ccde1f4ad2e64c')]],\n",
       "  'mainfile': 'conduct.py',\n",
       "  'base_dir': '/home/docker/workspace/tests/example_experiment',\n",
       "  'name': 'example',\n",
       "  'dependencies': ['matplotlib==3.1.1',\n",
       "   'numpy==1.16.4',\n",
       "   'pandas==0.25.0',\n",
       "   'sacred==0.7.5',\n",
       "   'scikit-learn==0.21.2',\n",
       "   'seaborn==0.9.0',\n",
       "   'tensorflow==1.13.1'],\n",
       "  'repositories': []},\n",
       " 'result': 0.9315000176429749,\n",
       " '_id': 2,\n",
       " 'config': {'epochs': 3, 'optimizer': 'sgd', 'seed': 0},\n",
       " 'format': 'MongoObserver-0.7.0',\n",
       " 'artifacts': [{'name': 'predictions_df',\n",
       "   'file_id': ObjectId('5d39f73a80ccde1f4ad2e668')},\n",
       "  {'name': 'predictions', 'file_id': ObjectId('5d39f73a80ccde1f4ad2e66a')},\n",
       "  {'name': 'confusion_matrix',\n",
       "   'file_id': ObjectId('5d39f73a80ccde1f4ad2e66c')},\n",
       "  {'name': 'confusion_matrix.pdf',\n",
       "   'file_id': ObjectId('5d39f73a80ccde1f4ad2e66e')},\n",
       "  {'name': 'accuracy_movie', 'file_id': ObjectId('5d39f73b80ccde1f4ad2e670')},\n",
       "  {'name': 'history', 'file_id': ObjectId('5d39f73b80ccde1f4ad2e672')},\n",
       "  {'name': 'model.hdf5', 'file_id': ObjectId('5d39f73b80ccde1f4ad2e674')}]}"
      ]
     },
     "execution_count": 11,
     "metadata": {},
     "output_type": "execute_result"
    }
   ],
   "source": [
    "exp.to_dict()"
   ]
  },
  {
   "cell_type": "markdown",
   "metadata": {},
   "source": [
    "However, the experiment object exposes all keys as attributes, so they can be conveniently accessed using dot notation."
   ]
  },
  {
   "cell_type": "code",
   "execution_count": 12,
   "metadata": {},
   "outputs": [
    {
     "data": {
      "text/plain": [
       "'COMPLETED'"
      ]
     },
     "execution_count": 12,
     "metadata": {},
     "output_type": "execute_result"
    }
   ],
   "source": [
    "exp.status"
   ]
  },
  {
   "cell_type": "code",
   "execution_count": 13,
   "metadata": {},
   "outputs": [
    {
     "data": {
      "text/plain": [
       "datetime.datetime(2019, 7, 25, 18, 38, 33, 832000)"
      ]
     },
     "execution_count": 13,
     "metadata": {},
     "output_type": "execute_result"
    }
   ],
   "source": [
    "exp.start_time"
   ]
  },
  {
   "cell_type": "code",
   "execution_count": 14,
   "metadata": {},
   "outputs": [
    {
     "data": {
      "text/plain": [
       "0.9315000176429749"
      ]
     },
     "execution_count": 14,
     "metadata": {},
     "output_type": "execute_result"
    }
   ],
   "source": [
    "exp.result"
   ]
  },
  {
   "cell_type": "code",
   "execution_count": 15,
   "metadata": {},
   "outputs": [
    {
     "name": "stdout",
     "output_type": "stream",
     "text": [
      "INFO - example - Running command 'conduct'\n",
      "INFO - example - Started run with ID \"2\"\n",
      "Failed to detect content-type automatically for artifact /home/docker/workspace/predictions_df.pickle.\n",
      "Added text/csv as content-type of artifact /home/docker/workspace/predictions.csv.\n",
      "Added image/png as content-type of artifact /home/docker/workspace/confusion_matrix.png.\n",
      "Added application/pdf as content-type of artifact /home/docker/workspace/confusion_matrix.pdf.\n",
      "INFO - matplotlib.animation - MovieWriter.run: running command: ['ffmpeg', '-f', 'rawvideo', '-vcodec', 'rawvideo', '-s', '3840x2880', '-pix_fmt', 'rgba', '-r', '1', '-loglevel', 'error', '-i', 'pipe:', '-vcodec', 'h264', '-pix_fmt', 'yuv420p', '-y', 'accuracy_movie.mp4']\n",
      "Added video/mp4 as content-type of artifact /home/docker/workspace/accuracy_movie.mp4.\n",
      "Added text/plain as content-type of artifact /home/docker/workspace/history.txt.\n",
      "Failed to detect content-type automatically for artifact /home/docker/workspace/model.hdf5.\n",
      "INFO - example - Result: 0.9315000176429749\n",
      "INFO - example - Completed after 0:00:18\n",
      "\n"
     ]
    }
   ],
   "source": [
    "print(exp.captured_out)"
   ]
  },
  {
   "cell_type": "code",
   "execution_count": 16,
   "metadata": {},
   "outputs": [
    {
     "data": {
      "text/plain": [
       "pmap({'epochs': 3, 'optimizer': 'sgd', 'seed': 0})"
      ]
     },
     "execution_count": 16,
     "metadata": {},
     "output_type": "execute_result"
    }
   ],
   "source": [
    "exp.config"
   ]
  },
  {
   "cell_type": "markdown",
   "metadata": {},
   "source": [
    "This works down to deeper levels of the data model."
   ]
  },
  {
   "cell_type": "code",
   "execution_count": 17,
   "metadata": {},
   "outputs": [
    {
     "data": {
      "text/plain": [
       "3"
      ]
     },
     "execution_count": 17,
     "metadata": {},
     "output_type": "execute_result"
    }
   ],
   "source": [
    "exp.config.epochs"
   ]
  },
  {
   "cell_type": "markdown",
   "metadata": {},
   "source": [
    "Alternatively, the classic dictionary access notation can still be used. This is useful, if the the keys of the data model are not valid python identifiers."
   ]
  },
  {
   "cell_type": "code",
   "execution_count": 18,
   "metadata": {},
   "outputs": [
    {
     "data": {
      "text/plain": [
       "False"
      ]
     },
     "execution_count": 18,
     "metadata": {},
     "output_type": "execute_result"
    }
   ],
   "source": [
    "exp.meta.options['--unobserved']"
   ]
  },
  {
   "cell_type": "markdown",
   "metadata": {},
   "source": [
    "## Artifacts"
   ]
  },
  {
   "cell_type": "markdown",
   "metadata": {},
   "source": [
    "`.artifacts` is a dict that maps from artifact names to artifact objects. The artifacts can rendered according to their type by calling `.render()` on them. They can be saved locally by calling `.save()` on them. The artifact dict might be empty if the run was just restarted and did not yet finish an epoch."
   ]
  },
  {
   "cell_type": "code",
   "execution_count": 19,
   "metadata": {},
   "outputs": [
    {
     "data": {
      "text/plain": [
       "{'predictions_df': Artifact(name=predictions_df),\n",
       " 'predictions': CSVArtifact(name=predictions),\n",
       " 'confusion_matrix': ImageArtifact(name=confusion_matrix),\n",
       " 'confusion_matrix.pdf': PDFArtifact(name=confusion_matrix.pdf),\n",
       " 'accuracy_movie': MP4Artifact(name=accuracy_movie),\n",
       " 'history': Artifact(name=history),\n",
       " 'model.hdf5': Artifact(name=model.hdf5)}"
      ]
     },
     "execution_count": 19,
     "metadata": {},
     "output_type": "execute_result"
    }
   ],
   "source": [
    "exp.artifacts"
   ]
  },
  {
   "cell_type": "markdown",
   "metadata": {},
   "source": [
    "PNG artifacts will be shown as images by default."
   ]
  },
  {
   "cell_type": "code",
   "execution_count": 20,
   "metadata": {},
   "outputs": [
    {
     "data": {
      "image/png": "[encoded data removed]",
      "text/plain": [
       "<IPython.core.display.Image object>"
      ]
     },
     "execution_count": 20,
     "metadata": {},
     "output_type": "execute_result"
    }
   ],
   "source": [
    "exp.artifacts['confusion_matrix'].render()"
   ]
  },
  {
   "cell_type": "code",
   "execution_count": 21,
   "metadata": {},
   "outputs": [],
   "source": [
    "exp.artifacts['confusion_matrix'].save()"
   ]
  },
  {
   "cell_type": "markdown",
   "metadata": {},
   "source": [
    "While CSV artifacts will be converted into `pandas.DataFrames`."
   ]
  },
  {
   "cell_type": "code",
   "execution_count": 22,
   "metadata": {},
   "outputs": [
    {
     "data": {
      "text/html": [
       "<div>\n",
       "<style scoped>\n",
       "    .dataframe tbody tr th:only-of-type {\n",
       "        vertical-align: middle;\n",
       "    }\n",
       "\n",
       "    .dataframe tbody tr th {\n",
       "        vertical-align: top;\n",
       "    }\n",
       "\n",
       "    .dataframe thead th {\n",
       "        text-align: right;\n",
       "    }\n",
       "</style>\n",
       "<table border=\"1\" class=\"dataframe\">\n",
       "  <thead>\n",
       "    <tr style=\"text-align: right;\">\n",
       "      <th></th>\n",
       "      <th>predictions</th>\n",
       "      <th>targets</th>\n",
       "    </tr>\n",
       "  </thead>\n",
       "  <tbody>\n",
       "    <tr>\n",
       "      <th>0</th>\n",
       "      <td>7</td>\n",
       "      <td>7</td>\n",
       "    </tr>\n",
       "    <tr>\n",
       "      <th>1</th>\n",
       "      <td>2</td>\n",
       "      <td>2</td>\n",
       "    </tr>\n",
       "    <tr>\n",
       "      <th>2</th>\n",
       "      <td>1</td>\n",
       "      <td>1</td>\n",
       "    </tr>\n",
       "    <tr>\n",
       "      <th>3</th>\n",
       "      <td>0</td>\n",
       "      <td>0</td>\n",
       "    </tr>\n",
       "    <tr>\n",
       "      <th>4</th>\n",
       "      <td>4</td>\n",
       "      <td>4</td>\n",
       "    </tr>\n",
       "  </tbody>\n",
       "</table>\n",
       "</div>"
      ],
      "text/plain": [
       "   predictions  targets\n",
       "0            7        7\n",
       "1            2        2\n",
       "2            1        1\n",
       "3            0        0\n",
       "4            4        4"
      ]
     },
     "execution_count": 22,
     "metadata": {},
     "output_type": "execute_result"
    }
   ],
   "source": [
    "exp.artifacts['predictions'].render().head()"
   ]
  },
  {
   "cell_type": "code",
   "execution_count": 23,
   "metadata": {},
   "outputs": [
    {
     "name": "stderr",
     "output_type": "stream",
     "text": [
      "/opt/conda/envs/env/lib/python3.6/site-packages/ipykernel_launcher.py:1: DeprecationWarning: `show` is deprecated in favor of `render` and will removed in a future release.\n",
      "  \"\"\"Entry point for launching an IPython kernel.\n"
     ]
    },
    {
     "data": {
      "text/html": [
       "<div>\n",
       "<style scoped>\n",
       "    .dataframe tbody tr th:only-of-type {\n",
       "        vertical-align: middle;\n",
       "    }\n",
       "\n",
       "    .dataframe tbody tr th {\n",
       "        vertical-align: top;\n",
       "    }\n",
       "\n",
       "    .dataframe thead th {\n",
       "        text-align: right;\n",
       "    }\n",
       "</style>\n",
       "<table border=\"1\" class=\"dataframe\">\n",
       "  <thead>\n",
       "    <tr style=\"text-align: right;\">\n",
       "      <th></th>\n",
       "      <th>predictions</th>\n",
       "      <th>targets</th>\n",
       "    </tr>\n",
       "  </thead>\n",
       "  <tbody>\n",
       "    <tr>\n",
       "      <th>0</th>\n",
       "      <td>7</td>\n",
       "      <td>7</td>\n",
       "    </tr>\n",
       "    <tr>\n",
       "      <th>1</th>\n",
       "      <td>2</td>\n",
       "      <td>2</td>\n",
       "    </tr>\n",
       "    <tr>\n",
       "      <th>2</th>\n",
       "      <td>1</td>\n",
       "      <td>1</td>\n",
       "    </tr>\n",
       "    <tr>\n",
       "      <th>3</th>\n",
       "      <td>0</td>\n",
       "      <td>0</td>\n",
       "    </tr>\n",
       "    <tr>\n",
       "      <th>4</th>\n",
       "      <td>4</td>\n",
       "      <td>4</td>\n",
       "    </tr>\n",
       "  </tbody>\n",
       "</table>\n",
       "</div>"
      ],
      "text/plain": [
       "   predictions  targets\n",
       "0            7        7\n",
       "1            2        2\n",
       "2            1        1\n",
       "3            0        0\n",
       "4            4        4"
      ]
     },
     "execution_count": 23,
     "metadata": {},
     "output_type": "execute_result"
    }
   ],
   "source": [
    "exp.artifacts['predictions'].show().head()"
   ]
  },
  {
   "cell_type": "markdown",
   "metadata": {},
   "source": [
    "MP4 artifacts will be downloaded and embedded as an HTML element in the notebook. This can be useful for visualizing dynamics over time."
   ]
  },
  {
   "cell_type": "code",
   "execution_count": 24,
   "metadata": {},
   "outputs": [
    {
     "data": {
      "text/html": [
       "\n",
       "        <video width=\"640\" height=\"480\" controls autoplay>\n",
       "          <source src=\"2_accuracy_movie.mp4\" type=\"video/mp4\">\n",
       "        </video>\n",
       "        "
      ],
      "text/plain": [
       "<IPython.core.display.HTML object>"
      ]
     },
     "execution_count": 24,
     "metadata": {},
     "output_type": "execute_result"
    }
   ],
   "source": [
    "exp.artifacts['accuracy_movie'].render()"
   ]
  },
  {
   "cell_type": "markdown",
   "metadata": {},
   "source": [
    "Finally pickle artifacts will the restored to the Python object they originally represented. However, since `pickle` does not have a proper detectable content-type they will be only recognized as `Artifacts` without any more specific type. We can use the `as_type` method to interpret an artifact as an artifact of a more specific or just different type. In our example we just saved the data frame we already have as CSV as a pickle file as well."
   ]
  },
  {
   "cell_type": "code",
   "execution_count": 25,
   "metadata": {},
   "outputs": [
    {
     "data": {
      "text/html": [
       "<div>\n",
       "<style scoped>\n",
       "    .dataframe tbody tr th:only-of-type {\n",
       "        vertical-align: middle;\n",
       "    }\n",
       "\n",
       "    .dataframe tbody tr th {\n",
       "        vertical-align: top;\n",
       "    }\n",
       "\n",
       "    .dataframe thead th {\n",
       "        text-align: right;\n",
       "    }\n",
       "</style>\n",
       "<table border=\"1\" class=\"dataframe\">\n",
       "  <thead>\n",
       "    <tr style=\"text-align: right;\">\n",
       "      <th></th>\n",
       "      <th>predictions</th>\n",
       "      <th>targets</th>\n",
       "    </tr>\n",
       "  </thead>\n",
       "  <tbody>\n",
       "    <tr>\n",
       "      <th>0</th>\n",
       "      <td>7</td>\n",
       "      <td>7</td>\n",
       "    </tr>\n",
       "    <tr>\n",
       "      <th>1</th>\n",
       "      <td>2</td>\n",
       "      <td>2</td>\n",
       "    </tr>\n",
       "    <tr>\n",
       "      <th>2</th>\n",
       "      <td>1</td>\n",
       "      <td>1</td>\n",
       "    </tr>\n",
       "    <tr>\n",
       "      <th>3</th>\n",
       "      <td>0</td>\n",
       "      <td>0</td>\n",
       "    </tr>\n",
       "    <tr>\n",
       "      <th>4</th>\n",
       "      <td>4</td>\n",
       "      <td>4</td>\n",
       "    </tr>\n",
       "  </tbody>\n",
       "</table>\n",
       "</div>"
      ],
      "text/plain": [
       "   predictions  targets\n",
       "0            7        7\n",
       "1            2        2\n",
       "2            1        1\n",
       "3            0        0\n",
       "4            4        4"
      ]
     },
     "execution_count": 25,
     "metadata": {},
     "output_type": "execute_result"
    }
   ],
   "source": [
    "pickle_artifact = exp.artifacts['predictions_df'].as_type(incense.artifact.PickleArtifact)\n",
    "pickle_artifact.render().head()"
   ]
  },
  {
   "cell_type": "markdown",
   "metadata": {},
   "source": [
    "## Metrics"
   ]
  },
  {
   "cell_type": "markdown",
   "metadata": {},
   "source": [
    "`.metrics` works similar to `.artifacts`, but maps from metrics names to `pandas.Series`. Therefore, metrics can easily be plotted."
   ]
  },
  {
   "cell_type": "code",
   "execution_count": 26,
   "metadata": {},
   "outputs": [
    {
     "data": {
      "text/plain": [
       "dict_keys(['training_loss', 'training_acc', 'test_loss', 'test_acc'])"
      ]
     },
     "execution_count": 26,
     "metadata": {},
     "output_type": "execute_result"
    }
   ],
   "source": [
    "exp.metrics.keys()"
   ]
  },
  {
   "cell_type": "code",
   "execution_count": 27,
   "metadata": {},
   "outputs": [
    {
     "data": {
      "text/plain": [
       "<matplotlib.axes._subplots.AxesSubplot at 0x7fe9bd4b73c8>"
      ]
     },
     "execution_count": 27,
     "metadata": {},
     "output_type": "execute_result"
    },
    {
     "data": {
      "image/png": "[encoded data removed]",
      "text/plain": [
       "<Figure size 432x288 with 1 Axes>"
      ]
     },
     "metadata": {
      "needs_background": "light"
     },
     "output_type": "display_data"
    }
   ],
   "source": [
    "exp.metrics['training_loss'].plot()"
   ]
  },
  {
   "cell_type": "code",
   "execution_count": 28,
   "metadata": {},
   "outputs": [
    {
     "data": {
      "text/plain": [
       "<matplotlib.legend.Legend at 0x7fe9bd45a0f0>"
      ]
     },
     "execution_count": 28,
     "metadata": {},
     "output_type": "execute_result"
    },
    {
     "data": {
      "image/png": "[encoded data removed]",
      "text/plain": [
       "<Figure size 432x288 with 1 Axes>"
      ]
     },
     "metadata": {
      "needs_background": "light"
     },
     "output_type": "display_data"
    }
   ],
   "source": [
    "exp.metrics['training_acc'].plot()\n",
    "exp.metrics['training_loss'].plot()\n",
    "plt.legend()"
   ]
  },
  {
   "cell_type": "markdown",
   "metadata": {},
   "source": [
    "## Projecting onto DataFrames\n",
    "Often you want to pull experiment attributes and metrics into a dataframe. Either just to get and overview or do a custom analysis. You can easily transform a `QuerySet` of experiments by calling `project` on it. Pass a list of dot separated paths that point to some value in the experiment model to the `on` parameter. By default the columns will be named as the last element in the path."
   ]
  },
  {
   "cell_type": "code",
   "execution_count": 29,
   "metadata": {},
   "outputs": [
    {
     "data": {
      "text/html": [
       "<div>\n",
       "<style scoped>\n",
       "    .dataframe tbody tr th:only-of-type {\n",
       "        vertical-align: middle;\n",
       "    }\n",
       "\n",
       "    .dataframe tbody tr th {\n",
       "        vertical-align: top;\n",
       "    }\n",
       "\n",
       "    .dataframe thead th {\n",
       "        text-align: right;\n",
       "    }\n",
       "</style>\n",
       "<table border=\"1\" class=\"dataframe\">\n",
       "  <thead>\n",
       "    <tr style=\"text-align: right;\">\n",
       "      <th></th>\n",
       "      <th>name</th>\n",
       "      <th>optimizer</th>\n",
       "      <th>epochs</th>\n",
       "    </tr>\n",
       "    <tr>\n",
       "      <th>exp_id</th>\n",
       "      <th></th>\n",
       "      <th></th>\n",
       "      <th></th>\n",
       "    </tr>\n",
       "  </thead>\n",
       "  <tbody>\n",
       "    <tr>\n",
       "      <th>1</th>\n",
       "      <td>example</td>\n",
       "      <td>sgd</td>\n",
       "      <td>1</td>\n",
       "    </tr>\n",
       "    <tr>\n",
       "      <th>2</th>\n",
       "      <td>example</td>\n",
       "      <td>sgd</td>\n",
       "      <td>3</td>\n",
       "    </tr>\n",
       "    <tr>\n",
       "      <th>3</th>\n",
       "      <td>example</td>\n",
       "      <td>adam</td>\n",
       "      <td>1</td>\n",
       "    </tr>\n",
       "  </tbody>\n",
       "</table>\n",
       "</div>"
      ],
      "text/plain": [
       "           name optimizer  epochs\n",
       "exp_id                           \n",
       "1       example       sgd       1\n",
       "2       example       sgd       3\n",
       "3       example      adam       1"
      ]
     },
     "execution_count": 29,
     "metadata": {},
     "output_type": "execute_result"
    }
   ],
   "source": [
    "exps = loader.find_by_ids([1,2,3])\n",
    "exps.project(on=[\"experiment.name\", \"config.optimizer\", \"config.epochs\"])"
   ]
  },
  {
   "cell_type": "markdown",
   "metadata": {},
   "source": [
    "If a path points to a value that is non-scalar, e.g. a metric, you can pass a dict of the path mapping to a function that reduces the the values to a single value."
   ]
  },
  {
   "cell_type": "code",
   "execution_count": 30,
   "metadata": {},
   "outputs": [
    {
     "data": {
      "text/html": [
       "<div>\n",
       "<style scoped>\n",
       "    .dataframe tbody tr th:only-of-type {\n",
       "        vertical-align: middle;\n",
       "    }\n",
       "\n",
       "    .dataframe tbody tr th {\n",
       "        vertical-align: top;\n",
       "    }\n",
       "\n",
       "    .dataframe thead th {\n",
       "        text-align: right;\n",
       "    }\n",
       "</style>\n",
       "<table border=\"1\" class=\"dataframe\">\n",
       "  <thead>\n",
       "    <tr style=\"text-align: right;\">\n",
       "      <th></th>\n",
       "      <th>name</th>\n",
       "      <th>optimizer</th>\n",
       "      <th>training_loss_median</th>\n",
       "    </tr>\n",
       "    <tr>\n",
       "      <th>exp_id</th>\n",
       "      <th></th>\n",
       "      <th></th>\n",
       "      <th></th>\n",
       "    </tr>\n",
       "  </thead>\n",
       "  <tbody>\n",
       "    <tr>\n",
       "      <th>1</th>\n",
       "      <td>example</td>\n",
       "      <td>sgd</td>\n",
       "      <td>0.637839</td>\n",
       "    </tr>\n",
       "    <tr>\n",
       "      <th>2</th>\n",
       "      <td>example</td>\n",
       "      <td>sgd</td>\n",
       "      <td>0.345013</td>\n",
       "    </tr>\n",
       "    <tr>\n",
       "      <th>3</th>\n",
       "      <td>example</td>\n",
       "      <td>adam</td>\n",
       "      <td>0.218707</td>\n",
       "    </tr>\n",
       "  </tbody>\n",
       "</table>\n",
       "</div>"
      ],
      "text/plain": [
       "           name optimizer  training_loss_median\n",
       "exp_id                                         \n",
       "1       example       sgd              0.637839\n",
       "2       example       sgd              0.345013\n",
       "3       example      adam              0.218707"
      ]
     },
     "execution_count": 30,
     "metadata": {},
     "output_type": "execute_result"
    }
   ],
   "source": [
    "exps.project(on=[\"experiment.name\", \"config.optimizer\", {\"metrics.training_loss\": np.median}])"
   ]
  },
  {
   "cell_type": "markdown",
   "metadata": {},
   "source": [
    "## Saving mulitple artifacts at once\n",
    "`QuerySet`s mimick the API of single artifacts, so you can also get the artifacts and save all of them. This has the advantage that the download will happen in a multithreaded fashion, which should make things faster for large number of bigger artifacts."
   ]
  },
  {
   "cell_type": "code",
   "execution_count": 31,
   "metadata": {},
   "outputs": [],
   "source": [
    "loader.find_all().artifacts[\"confusion_matrix\"].save(to_dir=\"artifacts\")"
   ]
  },
  {
   "cell_type": "markdown",
   "metadata": {},
   "source": [
    "To match more than one artifact per experiment you can use globbing patterns to `filter` the artifacts. However, you will not get an error if no artifacts are matched for different experiments."
   ]
  },
  {
   "cell_type": "code",
   "execution_count": 32,
   "metadata": {},
   "outputs": [],
   "source": [
    "(loader\n",
    " .find_all()\n",
    " .artifacts\n",
    " .filter(\"*matrix*\")\n",
    " .save(to_dir=\"artifacts\"))"
   ]
  },
  {
   "cell_type": "markdown",
   "metadata": {},
   "source": [
    "## Utils\n",
    "The `utils` module contains related functionality, that might be useful during the manual interpretation of experiments."
   ]
  },
  {
   "cell_type": "code",
   "execution_count": 33,
   "metadata": {},
   "outputs": [],
   "source": [
    "from incense import utils"
   ]
  },
  {
   "cell_type": "markdown",
   "metadata": {},
   "source": [
    "The `find_differing_config_keys` function returns the set of config values that differ in a set of experiments."
   ]
  },
  {
   "cell_type": "code",
   "execution_count": 34,
   "metadata": {},
   "outputs": [
    {
     "data": {
      "text/plain": [
       "{'epochs'}"
      ]
     },
     "execution_count": 34,
     "metadata": {},
     "output_type": "execute_result"
    }
   ],
   "source": [
    "exps = loader.find_by_ids([1, 2])\n",
    "utils.find_differing_config_keys(exps)"
   ]
  },
  {
   "cell_type": "markdown",
   "metadata": {},
   "source": [
    "## Deleting experiments\n",
    "It is possible to completely delete experiments including their associated metrics and artifacts. Per default the method will ask for confirmation, so we do not accidentally delete our experiments. This can be skipped by passing `confirmed=True`."
   ]
  },
  {
   "cell_type": "code",
   "execution_count": 35,
   "metadata": {},
   "outputs": [
    {
     "name": "stdin",
     "output_type": "stream",
     "text": [
      "Are you sure you want to delete Experiment(id=2, name=example)? [y/N] N\n"
     ]
    }
   ],
   "source": [
    "exp = loader.find_by_id(2)\n",
    "exp.delete()"
   ]
  },
  {
   "cell_type": "code",
   "execution_count": null,
   "metadata": {},
   "outputs": [],
   "source": []
  }
 ],
 "metadata": {
  "kernelspec": {
   "display_name": "Python 3",
   "language": "python",
   "name": "python3"
  },
  "language_info": {
   "codemirror_mode": {
    "name": "ipython",
    "version": 3
   },
   "file_extension": ".py",
   "mimetype": "text/x-python",
   "name": "python",
   "nbconvert_exporter": "python",
   "pygments_lexer": "ipython3",
   "version": "3.6.8"
  }
 },
 "nbformat": 4,
 "nbformat_minor": 4
}
